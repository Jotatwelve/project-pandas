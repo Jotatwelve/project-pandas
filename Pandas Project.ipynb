{
 "cells": [
  {
   "cell_type": "markdown",
   "metadata": {},
   "source": [
    "# PREVIO"
   ]
  },
  {
   "cell_type": "markdown",
   "metadata": {},
   "source": [
    "## Importar librerias"
   ]
  },
  {
   "cell_type": "code",
   "execution_count": null,
   "metadata": {},
   "outputs": [],
   "source": [
    "import pandas as pd\n",
    "import numpy as np\n",
    "import re"
   ]
  },
  {
   "cell_type": "markdown",
   "metadata": {},
   "source": [
    "## Primera toma de contactos con el DataSet"
   ]
  },
  {
   "cell_type": "code",
   "execution_count": null,
   "metadata": {},
   "outputs": [],
   "source": [
    "sharkattacks = pd.read_csv(\"../project-pandas/GSAF5.csv\", engine = \"python\")"
   ]
  },
  {
   "cell_type": "code",
   "execution_count": null,
   "metadata": {},
   "outputs": [],
   "source": [
    "sharkattacks.head()"
   ]
  },
  {
   "cell_type": "code",
   "execution_count": null,
   "metadata": {},
   "outputs": [],
   "source": [
    "sharkattacks.columns"
   ]
  },
  {
   "cell_type": "code",
   "execution_count": null,
   "metadata": {},
   "outputs": [],
   "source": [
    "sharkattacks.shape"
   ]
  },
  {
   "cell_type": "markdown",
   "metadata": {},
   "source": [
    "Tenemos un dataset amplio con 5992 filas y 24 columnas. En la primera toma de contacto con el DataSet vemos que hay algunos parámetros del DataSet que no parecen tener mucha relevancia por la cantidad de valores repetidos y valores NaN que observo.\n",
    "\n",
    "Posibles procedimientos a aplicar:\n",
    "\n",
    "- Observamos en Case Number tenemos unos índices al final que podremos limpiar.\n",
    "- También observo como case number y date pese a tener formatos diferentes, dan información similar.\n",
    "- Las columnas unnamed a primera vista no tienen valores relevantes.\n",
    "- Columnas como pdf, href, investigator or source no aportan información relevante a priori"
   ]
  },
  {
   "cell_type": "code",
   "execution_count": null,
   "metadata": {},
   "outputs": [],
   "source": [
    "sharkattacks.isnull().sum()"
   ]
  },
  {
   "cell_type": "markdown",
   "metadata": {},
   "source": [
    "Podemos ver como varias de las columnas que tiene el DataSet tienen aproximadamente el 50% de sus celdas con valores nulos.\n",
    "\n",
    "Véase Time, Age, Species o las columnas Unnamed"
   ]
  },
  {
   "cell_type": "markdown",
   "metadata": {},
   "source": [
    "# MANIPULACIÓN Y LIMPIEZA"
   ]
  },
  {
   "cell_type": "markdown",
   "metadata": {},
   "source": [
    "Podemos crear una función con el propósito de limpiar los campos en los que nos encontremos puntos, comas, parentesis o elementos que no nos aportan información relevante "
   ]
  },
  {
   "cell_type": "code",
   "execution_count": null,
   "metadata": {},
   "outputs": [],
   "source": [
    "def clean_col(items):\n",
    "column_cleaned = []\n",
    "    for item in items:\n",
    "        item = item.replace(\"(\", \"\" )\n",
    "        item = item.replace(\")\", \"\" )\n",
    "        item = item.replace(\"/\", \"\" )\n",
    "        item = item.replace(\".\", ' ')\n",
    "        item = item.replace(\" \", '_')\n",
    "        \n",
    "    \n",
    "        column_cleaned.append(item)\n",
    "    return column_cleaned"
   ]
  },
  {
   "cell_type": "markdown",
   "metadata": {},
   "source": [
    "Visto que las columnas Unnamed no tienen valores relevantes en prácticamente ninguna celda. Podemos proceder a eliminarlas del DataSet"
   ]
  },
  {
   "cell_type": "code",
   "execution_count": null,
   "metadata": {},
   "outputs": [],
   "source": [
    "sharkattacks.drop(['Unnamed: 22','Unnamed: 23'], axis=1)"
   ]
  },
  {
   "cell_type": "markdown",
   "metadata": {},
   "source": [
    "Podemos definir una funcion para todos aquellos NaN que nos encontremos en algunas columnas donde he encontrado más, pasar otro parámetro diferente."
   ]
  },
  {
   "cell_type": "code",
   "execution_count": null,
   "metadata": {},
   "outputs": [],
   "source": [
    "def change_NaN (column):\n",
    "    \n",
    "    unk = column.fillna ('Unknown')\n",
    "    \n",
    "    return unk\n",
    "\n",
    "sharkattacks['Time'] = change_NaN (sharkattacks['Time'])\n",
    "sharkattacks['Age'] = change_NaN (sharkattacks['Age'])\n",
    "sharkattacks['Area'] = change_NaN (sharkattacks['Area'])\n",
    "sharkattacks['Location'] = change_NaN (sharkattacks['Location'])\n",
    "sharkattacks['Activity'] = change_NaN (sharkattacks['Activity'])\n",
    "\n"
   ]
  },
  {
   "cell_type": "markdown",
   "metadata": {},
   "source": [
    "Podemos pasar a normalizar los nombres de los países ya que tenemos filas con elementos que sobran como (_) o (/) o puntos (.) y limpiar los campos"
   ]
  },
  {
   "cell_type": "code",
   "execution_count": null,
   "metadata": {},
   "outputs": [],
   "source": [
    "pd.unique(sharkattacks['Country'])"
   ]
  },
  {
   "cell_type": "code",
   "execution_count": null,
   "metadata": {},
   "outputs": [],
   "source": [
    "sharkattacks['Country'].value_counts()\n"
   ]
  },
  {
   "cell_type": "code",
   "execution_count": null,
   "metadata": {},
   "outputs": [],
   "source": [
    "sharkattacks['Country'] = [(str(i).title()).replace(\"_\",\" \") \n",
    "                           for i in clean_col(sharkattacks['Country'])]\n",
    "                            "
   ]
  },
  {
   "cell_type": "markdown",
   "metadata": {},
   "source": [
    "Visto el dataset con detenimiento, podemos descartar más columnas que no nos hacen falta y podemos simplificar el dataset obteniendo resultados similares"
   ]
  },
  {
   "cell_type": "code",
   "execution_count": null,
   "metadata": {},
   "outputs": [],
   "source": [
    "sharkattacks = sharkattacks.drop(['Date','Name', 'Injury', 'Fatal (Y/N)', 'Time',\n",
    "                                    'Investigator Or Source', 'pdf', 'href formula', 'href',\n",
    "                                    'Case Number.1', 'Case Number.2', 'original order'], axis=1)"
   ]
  },
  {
   "cell_type": "markdown",
   "metadata": {},
   "source": [
    "Podemos crear una columna nueva asociando los años a decadas (1910->10s,1920->20s,1930->30s...)\n",
    "Haria falta aplicarlo a todos los años, solo aplicare una funcion para los años comprendidos entre 1900 y 2016)"
   ]
  },
  {
   "cell_type": "code",
   "execution_count": null,
   "metadata": {},
   "outputs": [],
   "source": [
    "pd.unique(sharkattacks['Year'])"
   ]
  },
  {
   "cell_type": "code",
   "execution_count": null,
   "metadata": {},
   "outputs": [],
   "source": [
    "decades = []\n",
    "for year in sharkattacks['Year']:\n",
    "    \n",
    "    if year <= 1910 and year > 1900:\n",
    "        decades.append('910s')\n",
    "    if year <= 1920 and year > 1910:\n",
    "        decades.append('920s')\n",
    "    if year <= 1930 and year > 1920:\n",
    "        decades.append('930s')\n",
    "    if year <= 1940 and year > 1930:\n",
    "        decades.append('940s')\n",
    "    if year <= 1950 and year > 1940:\n",
    "        decades.append('950s')\n",
    "    if year <= 1960 and year > 1950:\n",
    "        decades.append('960s')\n",
    "    if year <= 1970 and year > 1960:\n",
    "        decades.append('970s')\n",
    "    if year <= 1980 and year > 1970:\n",
    "        decades.append('980s')\n",
    "    if year <= 1990 and year > 1980:\n",
    "        decades.append('990s')\n",
    "    if year <= 2000 and year > 1990:\n",
    "        decades.append('2000s')\n",
    "    if year <= 2010 and year > 2000:\n",
    "        decades.append('2010s')\n",
    "    \n",
    "sharkattacks['Decades'] = decades"
   ]
  },
  {
   "cell_type": "markdown",
   "metadata": {},
   "source": [
    "Podemos pasar a reordenar las columnas para tener mejor lectura de los datos"
   ]
  },
  {
   "cell_type": "code",
   "execution_count": null,
   "metadata": {},
   "outputs": [],
   "source": [
    "newcolumns = ['Country','Area','Location','Activity','Type','Case Number','Year','Age']\n",
    "sharkattacks = sharkattacks[newcolumns]"
   ]
  },
  {
   "cell_type": "code",
   "execution_count": 1,
   "metadata": {},
   "outputs": [
    {
     "ename": "NameError",
     "evalue": "name 'sharkattacks' is not defined",
     "output_type": "error",
     "traceback": [
      "\u001b[0;31m---------------------------------------------------------------------------\u001b[0m",
      "\u001b[0;31mNameError\u001b[0m                                 Traceback (most recent call last)",
      "\u001b[0;32m<ipython-input-1-8d130cb6c6d5>\u001b[0m in \u001b[0;36m<module>\u001b[0;34m\u001b[0m\n\u001b[0;32m----> 1\u001b[0;31m \u001b[0msharkattacks\u001b[0m\u001b[0;34m.\u001b[0m\u001b[0mto_csv\u001b[0m\u001b[0;34m(\u001b[0m\u001b[0;34m\"../project-pandas/sharkattacks.csv\"\u001b[0m\u001b[0;34m,\u001b[0m \u001b[0mindex\u001b[0m \u001b[0;34m=\u001b[0m \u001b[0;32mFalse\u001b[0m\u001b[0;34m)\u001b[0m\u001b[0;34m\u001b[0m\u001b[0;34m\u001b[0m\u001b[0m\n\u001b[0m",
      "\u001b[0;31mNameError\u001b[0m: name 'sharkattacks' is not defined"
     ]
    }
   ],
   "source": [
    "sharkattacks.to_csv(\"../project-pandas/sharkattacks.csv\", index = False)"
   ]
  },
  {
   "cell_type": "code",
   "execution_count": null,
   "metadata": {},
   "outputs": [],
   "source": []
  }
 ],
 "metadata": {
  "kernelspec": {
   "display_name": "Python 3",
   "language": "python",
   "name": "python3"
  },
  "language_info": {
   "codemirror_mode": {
    "name": "ipython",
    "version": 3
   },
   "file_extension": ".py",
   "mimetype": "text/x-python",
   "name": "python",
   "nbconvert_exporter": "python",
   "pygments_lexer": "ipython3",
   "version": "3.7.4"
  }
 },
 "nbformat": 4,
 "nbformat_minor": 2
}
